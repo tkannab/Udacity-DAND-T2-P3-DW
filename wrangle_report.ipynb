{
 "cells": [
  {
   "cell_type": "markdown",
   "metadata": {},
   "source": [
    "# Wrangle and analyze Data"
   ]
  },
  {
   "cell_type": "markdown",
   "metadata": {},
   "source": [
    "## Gathering Data"
   ]
  },
  {
   "cell_type": "markdown",
   "metadata": {},
   "source": [
    "To gather the data, I used 3 different sources: \n",
    "\n",
    "1. The WeRateDogs Twitter archive. I downloaded this file manually by clicking the following [link](https://d17h27t6h515a5.cloudfront.net/topher/2017/August/59a4e958_twitter-archive-enhanced/twitter-archive-enhanced.csv)\n",
    "\n",
    "2. The tweet image predictions, I downloaded this file programmatically through this [link]( https://d17h27t6h515a5.cloudfront.net/topher/2017/August/599fd2ad_image-predictions/image-predictions.tsv)\n",
    "\n",
    "3. Tweeter API. Using Tweepy. I downloaded the tweets data (based on the tweet_id from the WeRateDogs Twitter archive), saved them to a text file called `tweet_json.txt` and then created a dataframe using the following variables:\n",
    "    - retweet count \n",
    "    - favorite count \n",
    "    - Created at\n",
    "    - Full text"
   ]
  },
  {
   "cell_type": "markdown",
   "metadata": {
    "collapsed": true
   },
   "source": [
    "## Assessing Data"
   ]
  },
  {
   "cell_type": "markdown",
   "metadata": {},
   "source": [
    "### Data Quality\n",
    "\n",
    "#### **1. Missing Data**\n",
    "\n",
    "**Tweet Archive Dataset**\n",
    "- `name`: 715 tweets that have *None* as a name\n",
    "\n",
    "#### **2. Duplicated Data**:\n",
    "\n",
    "**Tweet API dataset**\n",
    "- 3 duplicated tweetIDs\n",
    "\n",
    "#### **3. Data type issues**:\n",
    "\n",
    "**Image Prediction Dataset**:\n",
    "- `tweet_id` should be string.\n",
    "\n",
    "**Tweet API dataset**\n",
    "- `tweet_id`: The current type is int64, I will convert it to string since there is no calculation required.\n",
    "- `created_at`: The current type is object (str) rather than datetime. I will change it to datetime.\n",
    "\n",
    "#### **4. Content Issues**\n",
    "\n",
    "**Tweet Archive Dataset**:\n",
    "- `name`: has invalid values, such as : None, a, an, the.\n",
    "- ratings include erroneous values. For example, there is a tweet where the denominator is 0. Also, there are tweets where the text include more than one rating pattern (##/##).\n",
    "- I found 1 dog that is both *doggo* and *floofer*.\n",
    "- I found 12 dogs that are both *doggo* and *pupper*.\n",
    "- I found 1 dog that is both *doggo* and *puppo*.\n",
    "- `retweeted_status_id`, `retweeted_status_id`, `retweeted_status_user_id`: I found 181 retweets. The retweets and the respective columns will be removed from the dataset.\n",
    "- `in_reply_to_status_id, in_reply_to_user_id`: columns to be dropped. \n",
    "\n",
    "**Image Prediction Dataset**:\n",
    "- `p1`, `p2`, `p3`: Some entries are lower case. also, some entries have underscore.\n",
    "\n",
    "\n",
    "### Data Tidiness:\n",
    "\n",
    "- Merge the three datasets.\n",
    "- Delete the `text` column from the merged dataset as I included the `full_text` column in the `tweet_df` dataframe.\n",
    "- Delete the `timestamp` column from the merged dataset as I included the `created_at` column in the `tweet_df` dataframe. \n",
    "- Create seperate columns for date from time.\n",
    "- Parse the column `source` to show the direct source (for ex: iphone, tweetdeck, etc.) rather than the HTML statement.\n",
    "- Create a new column called `rating_ratio` which is `rating_numerator` divided by `rating_denominator`.\n",
    "- `full_text`: Some tweets reference more than one dog and include multiple stages and ratings. I will create a new column called `stage` to include the dog stage and delete the four columns. For tweets that reference multiple stages, the `stage` will include additional stages, such as: doggo|pupper, doggo|floofer, and doggo|puppo."
   ]
  },
  {
   "cell_type": "markdown",
   "metadata": {},
   "source": [
    "## Cleaning Data"
   ]
  },
  {
   "cell_type": "markdown",
   "metadata": {},
   "source": [
    "**1. Merged the 3 datasets using INNER join**.\n",
    "- The number of rows of the merged dataset is 2074.\n",
    "- I created a new dataframe called `tweet_full_df_clean` to work on and kept the original dataframe for reference.\n",
    "\n",
    "**2. Deleted retweets from the dataset**\n",
    "\n",
    "**3. Deleted the extra columns**: \n",
    "\n",
    "- I deleted the following columns: `retweeted_status_id`, `retweeted_status_user_id`,`retweeted_status_timestamp`, `timestam`,\n",
    "`text`, `in_reply_to_status_id, in_reply_to_user_id`\n",
    "\n",
    "**4. Created separate columns for date a time based on the created_at column**.\n",
    "\n",
    "**5. Parsed the column `source` to show the direct source (for ex: Tweeter for iPhone) rather than the full link**.\n",
    "\n",
    "**6. Converted `tweet_id` to string**.\n",
    "\n",
    "**7. Dropped duplicates**.\n",
    "**8. Re-formatted the content of columns `p1`, `p2`, `p3`**.\n",
    "- converted to upper case and removed underscores.\n",
    "\n",
    "**9. Isolated the erraneous values in the `rating_denominator` and `rating_numerator` columns and fixed them programmatically**.\n",
    "\n",
    "**10. Created a new column called `rating_ratio` which is `rating_numerator` divided by `rating_denominator`**.\n",
    "\n",
    "**11. Corrected erroneous values in the `name` column and converted the (None) values to `Null`**.\n",
    "\n",
    "**12. Created a new categorical column called `stage` to include the dog stages and deleted the old 4 columns**.\n",
    "\n",
    "**13. Resorted the dataframe columns**.\n",
    "\n",
    "**14. Saved the dataframe to a file called `twitter_archive_master.csv`**."
   ]
  }
 ],
 "metadata": {
  "kernelspec": {
   "display_name": "Python 3",
   "language": "python",
   "name": "python3"
  },
  "language_info": {
   "codemirror_mode": {
    "name": "ipython",
    "version": 3
   },
   "file_extension": ".py",
   "mimetype": "text/x-python",
   "name": "python",
   "nbconvert_exporter": "python",
   "pygments_lexer": "ipython3",
   "version": "3.6.4"
  }
 },
 "nbformat": 4,
 "nbformat_minor": 2
}
